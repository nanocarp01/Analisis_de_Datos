{
 "cells": [
  {
   "cell_type": "markdown",
   "id": "6742ec9b",
   "metadata": {},
   "source": [
    "## Metodo read_json"
   ]
  },
  {
   "cell_type": "code",
   "execution_count": null,
   "id": "553d3e4f",
   "metadata": {},
   "outputs": [],
   "source": [
    "pd.read_json?"
   ]
  },
  {
   "cell_type": "code",
   "execution_count": null,
   "id": "0213dd44",
   "metadata": {},
   "outputs": [],
   "source": [
    "js_test2 = pd.read_json('C:/........')\n",
    "js_test2"
   ]
  }
 ],
 "metadata": {
  "kernelspec": {
   "display_name": "Python 3",
   "language": "python",
   "name": "python3"
  },
  "language_info": {
   "codemirror_mode": {
    "name": "ipython",
    "version": 3
   },
   "file_extension": ".py",
   "mimetype": "text/x-python",
   "name": "python",
   "nbconvert_exporter": "python",
   "pygments_lexer": "ipython3",
   "version": "3.8.8"
  }
 },
 "nbformat": 4,
 "nbformat_minor": 5
}
