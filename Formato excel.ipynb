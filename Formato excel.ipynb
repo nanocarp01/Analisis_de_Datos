{
 "cells": [
  {
   "cell_type": "markdown",
   "id": "85942a7b",
   "metadata": {},
   "source": [
    "# METODO read_excel\n",
    "**read_excel** es un metodo **disponible para DataFrame** que permite la lectura del contenido de **ficheros excel**. como en el metodo **to_excel** es necesario indicar la ruta del fichero y la pestaña que queremos leer\n",
    "\n",
    "\n",
    "#### Argumentos \n",
    "como en el metodo to_excel es necesario indicar la ruta y el fichero, ademas la pestaña que queremos leer"
   ]
  },
  {
   "cell_type": "code",
   "execution_count": null,
   "id": "a6af9040",
   "metadata": {},
   "outputs": [],
   "source": [
    "df_read = pd.read_excel('direccion donde se encuentra el archivo/', 'pestaña')\n",
    "df_read"
   ]
  },
  {
   "cell_type": "markdown",
   "id": "5a700801",
   "metadata": {},
   "source": [
    "Tambien podemos indicar el indice de la hoja  que queremos leer  "
   ]
  },
  {
   "cell_type": "code",
   "execution_count": 10,
   "id": "9f36cd3b",
   "metadata": {},
   "outputs": [],
   "source": [
    "df_read = pd.read_excel('direccion donde se encuentra el archivo/', 1)"
   ]
  },
  {
   "cell_type": "markdown",
   "id": "97c9e8dd",
   "metadata": {},
   "source": [
    "Podemos ver el resto de argumentos disponible utilizando el signo de interrogacion"
   ]
  },
  {
   "cell_type": "code",
   "execution_count": null,
   "id": "4f3b2d7e",
   "metadata": {},
   "outputs": [],
   "source": [
    "pd.read_excel?"
   ]
  },
  {
   "cell_type": "markdown",
   "id": "da273fa6",
   "metadata": {},
   "source": [
    "Tambien es posible leer un fichero excel utilizando la clave ExcelFile"
   ]
  },
  {
   "cell_type": "code",
   "execution_count": null,
   "id": "b644d835",
   "metadata": {},
   "outputs": [],
   "source": []
  }
 ],
 "metadata": {
  "kernelspec": {
   "display_name": "Python 3",
   "language": "python",
   "name": "python3"
  },
  "language_info": {
   "codemirror_mode": {
    "name": "ipython",
    "version": 3
   },
   "file_extension": ".py",
   "mimetype": "text/x-python",
   "name": "python",
   "nbconvert_exporter": "python",
   "pygments_lexer": "ipython3",
   "version": "3.8.8"
  }
 },
 "nbformat": 4,
 "nbformat_minor": 5
}
