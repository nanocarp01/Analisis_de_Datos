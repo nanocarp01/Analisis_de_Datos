{
 "cells": [
  {
   "cell_type": "code",
   "execution_count": 1,
   "id": "543fb1aa",
   "metadata": {},
   "outputs": [],
   "source": [
    "import pandas as pd"
   ]
  },
  {
   "cell_type": "code",
   "execution_count": 5,
   "id": "8a6d6f9c",
   "metadata": {},
   "outputs": [],
   "source": [
    "dataframe = pd.read_csv(r'D:\\pandas\\dataframe.csv')"
   ]
  },
  {
   "cell_type": "code",
   "execution_count": 6,
   "id": "1d140c95",
   "metadata": {},
   "outputs": [
    {
     "data": {
      "text/html": [
       "<div>\n",
       "<style scoped>\n",
       "    .dataframe tbody tr th:only-of-type {\n",
       "        vertical-align: middle;\n",
       "    }\n",
       "\n",
       "    .dataframe tbody tr th {\n",
       "        vertical-align: top;\n",
       "    }\n",
       "\n",
       "    .dataframe thead th {\n",
       "        text-align: right;\n",
       "    }\n",
       "</style>\n",
       "<table border=\"1\" class=\"dataframe\">\n",
       "  <thead>\n",
       "    <tr style=\"text-align: right;\">\n",
       "      <th></th>\n",
       "      <th>Nombre y Apellido</th>\n",
       "      <th>Edad</th>\n",
       "      <th>Pais</th>\n",
       "      <th>Automovil</th>\n",
       "      <th>Peso</th>\n",
       "    </tr>\n",
       "  </thead>\n",
       "  <tbody>\n",
       "    <tr>\n",
       "      <th>0</th>\n",
       "      <td>Juan</td>\n",
       "      <td>35</td>\n",
       "      <td>Mexico</td>\n",
       "      <td>No</td>\n",
       "      <td>d�lar</td>\n",
       "    </tr>\n",
       "    <tr>\n",
       "      <th>1</th>\n",
       "      <td>Pedro</td>\n",
       "      <td>41</td>\n",
       "      <td>Honduras</td>\n",
       "      <td>Si</td>\n",
       "      <td>peso</td>\n",
       "    </tr>\n",
       "    <tr>\n",
       "      <th>2</th>\n",
       "      <td>Maria</td>\n",
       "      <td>28</td>\n",
       "      <td>Peru</td>\n",
       "      <td>Si</td>\n",
       "      <td>peso</td>\n",
       "    </tr>\n",
       "    <tr>\n",
       "      <th>3</th>\n",
       "      <td>Laura</td>\n",
       "      <td>66</td>\n",
       "      <td>Argentina</td>\n",
       "      <td>No</td>\n",
       "      <td>peso</td>\n",
       "    </tr>\n",
       "  </tbody>\n",
       "</table>\n",
       "</div>"
      ],
      "text/plain": [
       "  Nombre y Apellido  Edad       Pais Automovil   Peso\n",
       "0              Juan    35     Mexico        No  d�lar\n",
       "1             Pedro    41   Honduras        Si   peso\n",
       "2             Maria    28       Peru        Si   peso\n",
       "3             Laura    66  Argentina        No   peso"
      ]
     },
     "execution_count": 6,
     "metadata": {},
     "output_type": "execute_result"
    }
   ],
   "source": [
    "dataframe"
   ]
  },
  {
   "cell_type": "code",
   "execution_count": 7,
   "id": "d45525a4",
   "metadata": {},
   "outputs": [
    {
     "data": {
      "text/plain": [
       "41    1\n",
       "66    1\n",
       "35    1\n",
       "28    1\n",
       "Name: Edad, dtype: int64"
      ]
     },
     "execution_count": 7,
     "metadata": {},
     "output_type": "execute_result"
    }
   ],
   "source": [
    "dataframe.Edad.value_counts() #muestra las veces q se repite cada valor "
   ]
  },
  {
   "cell_type": "code",
   "execution_count": 12,
   "id": "73e9769a",
   "metadata": {},
   "outputs": [
    {
     "data": {
      "text/plain": [
       "d�lar    1\n",
       "peso     3\n",
       "Name: Peso, dtype: int64"
      ]
     },
     "execution_count": 12,
     "metadata": {},
     "output_type": "execute_result"
    }
   ],
   "source": [
    "dataframe.Peso.value_counts(ascending=True,dropna=False) #ascending ordena la informacion de forma ascendente o descendente, dropna muestra o no los valores nulos"
   ]
  },
  {
   "cell_type": "code",
   "execution_count": null,
   "id": "a7cf850d",
   "metadata": {},
   "outputs": [],
   "source": []
  }
 ],
 "metadata": {
  "kernelspec": {
   "display_name": "Python 3",
   "language": "python",
   "name": "python3"
  },
  "language_info": {
   "codemirror_mode": {
    "name": "ipython",
    "version": 3
   },
   "file_extension": ".py",
   "mimetype": "text/x-python",
   "name": "python",
   "nbconvert_exporter": "python",
   "pygments_lexer": "ipython3",
   "version": "3.8.8"
  }
 },
 "nbformat": 4,
 "nbformat_minor": 5
}
