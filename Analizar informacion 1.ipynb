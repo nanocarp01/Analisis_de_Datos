{
 "cells": [
  {
   "cell_type": "code",
   "execution_count": 1,
   "id": "54ebd6be",
   "metadata": {},
   "outputs": [],
   "source": [
    "import pandas as pd "
   ]
  },
  {
   "cell_type": "code",
   "execution_count": 13,
   "id": "3f0a9a05",
   "metadata": {},
   "outputs": [],
   "source": [
    "dataframe = pd.read_csv(r'D:/pandas/dataframe.csv')"
   ]
  },
  {
   "cell_type": "code",
   "execution_count": 14,
   "id": "9b47862d",
   "metadata": {},
   "outputs": [
    {
     "data": {
      "text/html": [
       "<div>\n",
       "<style scoped>\n",
       "    .dataframe tbody tr th:only-of-type {\n",
       "        vertical-align: middle;\n",
       "    }\n",
       "\n",
       "    .dataframe tbody tr th {\n",
       "        vertical-align: top;\n",
       "    }\n",
       "\n",
       "    .dataframe thead th {\n",
       "        text-align: right;\n",
       "    }\n",
       "</style>\n",
       "<table border=\"1\" class=\"dataframe\">\n",
       "  <thead>\n",
       "    <tr style=\"text-align: right;\">\n",
       "      <th></th>\n",
       "      <th>Nombre y Apellido</th>\n",
       "      <th>Edad</th>\n",
       "      <th>Pais</th>\n",
       "      <th>Automovil</th>\n",
       "    </tr>\n",
       "  </thead>\n",
       "  <tbody>\n",
       "    <tr>\n",
       "      <th>0</th>\n",
       "      <td>Juan</td>\n",
       "      <td>35</td>\n",
       "      <td>Mexico</td>\n",
       "      <td>No</td>\n",
       "    </tr>\n",
       "    <tr>\n",
       "      <th>1</th>\n",
       "      <td>Pedro</td>\n",
       "      <td>41</td>\n",
       "      <td>Honduras</td>\n",
       "      <td>Si</td>\n",
       "    </tr>\n",
       "    <tr>\n",
       "      <th>2</th>\n",
       "      <td>Maria</td>\n",
       "      <td>28</td>\n",
       "      <td>Peru</td>\n",
       "      <td>Si</td>\n",
       "    </tr>\n",
       "    <tr>\n",
       "      <th>3</th>\n",
       "      <td>Florencia</td>\n",
       "      <td>66</td>\n",
       "      <td>Argentina</td>\n",
       "      <td>No</td>\n",
       "    </tr>\n",
       "    <tr>\n",
       "      <th>4</th>\n",
       "      <td>Fernando</td>\n",
       "      <td>30</td>\n",
       "      <td>Argentina</td>\n",
       "      <td>Si</td>\n",
       "    </tr>\n",
       "    <tr>\n",
       "      <th>5</th>\n",
       "      <td>Paula</td>\n",
       "      <td>25</td>\n",
       "      <td>Espa�a</td>\n",
       "      <td>Si</td>\n",
       "    </tr>\n",
       "    <tr>\n",
       "      <th>6</th>\n",
       "      <td>Gimena</td>\n",
       "      <td>60</td>\n",
       "      <td>Colombia</td>\n",
       "      <td>No</td>\n",
       "    </tr>\n",
       "    <tr>\n",
       "      <th>7</th>\n",
       "      <td>Estefania</td>\n",
       "      <td>36</td>\n",
       "      <td>Chile</td>\n",
       "      <td>No</td>\n",
       "    </tr>\n",
       "    <tr>\n",
       "      <th>8</th>\n",
       "      <td>Agustina</td>\n",
       "      <td>27</td>\n",
       "      <td>Chile</td>\n",
       "      <td>No</td>\n",
       "    </tr>\n",
       "    <tr>\n",
       "      <th>9</th>\n",
       "      <td>Jose</td>\n",
       "      <td>34</td>\n",
       "      <td>Espa�a</td>\n",
       "      <td>Si</td>\n",
       "    </tr>\n",
       "  </tbody>\n",
       "</table>\n",
       "</div>"
      ],
      "text/plain": [
       "  Nombre y Apellido  Edad       Pais Automovil\n",
       "0              Juan    35     Mexico        No\n",
       "1             Pedro    41   Honduras        Si\n",
       "2             Maria    28       Peru        Si\n",
       "3         Florencia    66  Argentina        No\n",
       "4          Fernando    30  Argentina        Si\n",
       "5             Paula    25     Espa�a        Si\n",
       "6            Gimena    60   Colombia        No\n",
       "7         Estefania    36      Chile        No\n",
       "8          Agustina    27      Chile        No\n",
       "9              Jose    34     Espa�a        Si"
      ]
     },
     "execution_count": 14,
     "metadata": {},
     "output_type": "execute_result"
    }
   ],
   "source": [
    "dataframe"
   ]
  },
  {
   "cell_type": "code",
   "execution_count": 15,
   "id": "5ab129f6",
   "metadata": {},
   "outputs": [
    {
     "data": {
      "text/plain": [
       "<pandas.core.groupby.generic.DataFrameGroupBy object at 0x000001BFC7776040>"
      ]
     },
     "execution_count": 15,
     "metadata": {},
     "output_type": "execute_result"
    }
   ],
   "source": [
    "dataframe.groupby('Pais')#agrupa los registros por diferentes series"
   ]
  },
  {
   "cell_type": "code",
   "execution_count": 17,
   "id": "74cca42a",
   "metadata": {},
   "outputs": [
    {
     "data": {
      "text/plain": [
       "[('No',\n",
       "    Nombre y Apellido  Edad       Pais Automovil\n",
       "  0              Juan    35     Mexico        No\n",
       "  3         Florencia    66  Argentina        No\n",
       "  6            Gimena    60   Colombia        No\n",
       "  7         Estefania    36      Chile        No\n",
       "  8          Agustina    27      Chile        No),\n",
       " ('Si',\n",
       "    Nombre y Apellido  Edad       Pais Automovil\n",
       "  1             Pedro    41   Honduras        Si\n",
       "  2             Maria    28       Peru        Si\n",
       "  4          Fernando    30  Argentina        Si\n",
       "  5             Paula    25     Espa�a        Si\n",
       "  9              Jose    34     Espa�a        Si)]"
      ]
     },
     "execution_count": 17,
     "metadata": {},
     "output_type": "execute_result"
    }
   ],
   "source": [
    "list(dataframe.groupby('Automovil'))#lo observamos de forma mas agradable"
   ]
  },
  {
   "cell_type": "code",
   "execution_count": null,
   "id": "af5c941e",
   "metadata": {},
   "outputs": [],
   "source": []
  }
 ],
 "metadata": {
  "kernelspec": {
   "display_name": "Python 3",
   "language": "python",
   "name": "python3"
  },
  "language_info": {
   "codemirror_mode": {
    "name": "ipython",
    "version": 3
   },
   "file_extension": ".py",
   "mimetype": "text/x-python",
   "name": "python",
   "nbconvert_exporter": "python",
   "pygments_lexer": "ipython3",
   "version": "3.8.8"
  }
 },
 "nbformat": 4,
 "nbformat_minor": 5
}
