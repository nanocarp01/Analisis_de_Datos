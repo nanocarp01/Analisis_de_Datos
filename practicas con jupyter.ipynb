{
 "cells": [
  {
   "cell_type": "markdown",
   "metadata": {},
   "source": [
    "# Índice\n",
    "1. [Expresiones booleanas](#bool)\n",
    "2. [Operadores lógicos](#oplog)\n",
    "3. [Ejecución condicional: if, elif](#ifs)\n",
    "4. [Captura de excepciones](#excep)\n",
    "5. [Funciones](#func)\n",
    "6. [Iteraciones: bucles for](#for)\n",
    "7. [Listas](#listas)\n",
    "8. [Diccionarios](#dicc)\n"
   ]
  },
  {
   "cell_type": "markdown",
   "metadata": {},
   "source": [
    "<a id=\"book\"></a>\n",
    "## Expresiones booleanas\n"
   ]
  },
  {
   "cell_type": "markdown",
   "metadata": {},
   "source": [
    "Pueden ser verdaderas (`True`) o falsas (`False`)  \n",
    "Operadores de comparación: \n",
    "* igual: `==` ó `is`  \n",
    "* distinto de: `!=` ó `is not`   \n",
    "* mayor: `>`  \n",
    "* menor: `<`  \n",
    "* mayor o igual: `>=`  \n",
    "* menor o igual `<=`  "
   ]
  },
  {
   "cell_type": "code",
   "execution_count": 1,
   "metadata": {},
   "outputs": [
    {
     "data": {
      "text/plain": [
       "True"
      ]
     },
     "execution_count": 1,
     "metadata": {},
     "output_type": "execute_result"
    }
   ],
   "source": [
    "5 == 5"
   ]
  },
  {
   "cell_type": "code",
   "execution_count": 2,
   "metadata": {},
   "outputs": [
    {
     "data": {
      "text/plain": [
       "False"
      ]
     },
     "execution_count": 2,
     "metadata": {},
     "output_type": "execute_result"
    }
   ],
   "source": [
    "5 != 5"
   ]
  },
  {
   "cell_type": "markdown",
   "metadata": {},
   "source": [
    "<a id=\"oplog\"></a>\n",
    "## Operadores lógicos \n"
   ]
  },
  {
   "cell_type": "markdown",
   "metadata": {},
   "source": [
    "`and`, `or` y `not`"
   ]
  },
  {
   "cell_type": "code",
   "execution_count": 3,
   "metadata": {},
   "outputs": [],
   "source": [
    "x = 10"
   ]
  },
  {
   "cell_type": "code",
   "execution_count": 4,
   "metadata": {},
   "outputs": [
    {
     "data": {
      "text/plain": [
       "False"
      ]
     },
     "execution_count": 4,
     "metadata": {},
     "output_type": "execute_result"
    }
   ],
   "source": [
    "x > 0 and x < 10"
   ]
  },
  {
   "cell_type": "code",
   "execution_count": 5,
   "metadata": {},
   "outputs": [
    {
     "data": {
      "text/plain": [
       "True"
      ]
     },
     "execution_count": 5,
     "metadata": {},
     "output_type": "execute_result"
    }
   ],
   "source": [
    "x > 0 and not x < 10"
   ]
  },
  {
   "cell_type": "markdown",
   "metadata": {},
   "source": [
    "<a id=\"ifs\"></a>\n",
    "##  Ejecución condicional: if, elif\n"
   ]
  },
  {
   "cell_type": "markdown",
   "metadata": {},
   "source": [
    "La sentencia `if` finaliza con dos puntos y si hay saltos de línea, el bloque debe estar indentado"
   ]
  },
  {
   "cell_type": "code",
   "execution_count": 6,
   "metadata": {},
   "outputs": [
    {
     "name": "stdout",
     "output_type": "stream",
     "text": [
      "Matrícula\n",
      "Eres un máquina\n"
     ]
    }
   ],
   "source": [
    "if x >= 5 and x < 10:\n",
    "    print('aprobado')\n",
    "elif x == 10:\n",
    "    print('Matrícula')\n",
    "    print('Eres un máquina')\n",
    "else: print('SUSPENSO')"
   ]
  },
  {
   "cell_type": "markdown",
   "metadata": {},
   "source": [
    "<a id=\"excep\"></a>\n",
    "## Captura de excepciones\n"
   ]
  },
  {
   "cell_type": "markdown",
   "metadata": {},
   "source": [
    "Si se sabe que cierta secuencia de instrucciones puede generar un problema, es posible añadir sentencias para que se ejecuten en caso de error, por ejemplo `try` y `except`"
   ]
  },
  {
   "cell_type": "code",
   "execution_count": 7,
   "metadata": {},
   "outputs": [
    {
     "name": "stdout",
     "output_type": "stream",
     "text": [
      "Introduzca la temperatura en Fahrenheit: 33\n",
      "0.5555555555555556\n"
     ]
    }
   ],
   "source": [
    "entrada = input('Introduzca la temperatura en Fahrenheit: ')\n",
    "try:\n",
    "    farenheit = float(entrada)\n",
    "    celsius = (farenheit-32) * 5/9\n",
    "    print(celsius)\n",
    "except:\n",
    "    print('Por favor, introduzca un número')"
   ]
  },
  {
   "cell_type": "markdown",
   "metadata": {},
   "source": [
    "<a id=\"func\"></a>\n",
    "## Funciones"
   ]
  },
  {
   "cell_type": "markdown",
   "metadata": {},
   "source": [
    "Una función recibe argumentos y devuelve resultados\n",
    "* Funciones internas: `max`, `min`, `len`...\n",
    "* Funciones de conversión de tipos: `int('32')`, `float(32)`, `str(32)`...\n",
    "* Funciones matemáticas (hay que importar el módulo `math`): `math.log10(20)`, `math.sin(90)`..."
   ]
  },
  {
   "cell_type": "markdown",
   "metadata": {},
   "source": [
    "Crear nuevas funciones:"
   ]
  },
  {
   "cell_type": "code",
   "execution_count": 8,
   "metadata": {},
   "outputs": [],
   "source": [
    "def mi_exponencial(numero,exponente,cte):\n",
    "    exp = (numero**exponente)-cte\n",
    "    return(exp)"
   ]
  },
  {
   "cell_type": "markdown",
   "metadata": {},
   "source": [
    "Llamada a la función"
   ]
  },
  {
   "cell_type": "code",
   "execution_count": 9,
   "metadata": {},
   "outputs": [
    {
     "data": {
      "text/plain": [
       "8"
      ]
     },
     "execution_count": 9,
     "metadata": {},
     "output_type": "execute_result"
    }
   ],
   "source": [
    "mi_exponencial(3,2,1)"
   ]
  },
  {
   "cell_type": "markdown",
   "metadata": {},
   "source": [
    "<a id=\"for\"></a>\n",
    "## Iteraciones: bucles for"
   ]
  },
  {
   "cell_type": "markdown",
   "metadata": {},
   "source": [
    "En el siguiente ejemplo, la variable `amigos` es una lista de tres strings y el bucle `for` recorre esta lista, utilizando la variable de iteración `amigo`, que cambia en cada ejecución del bucle"
   ]
  },
  {
   "cell_type": "code",
   "execution_count": 10,
   "metadata": {},
   "outputs": [
    {
     "name": "stdout",
     "output_type": "stream",
     "text": [
      "Hola Juan\n",
      "Hola Luis\n",
      "Hola Ana\n"
     ]
    }
   ],
   "source": [
    "amigos = ['Juan', 'Luis', 'Ana']\n",
    "for amigo in amigos:\n",
    "    print('Hola',amigo)"
   ]
  },
  {
   "cell_type": "markdown",
   "metadata": {},
   "source": [
    "Para recorrer un rango de números, podemos usar la función `range()`"
   ]
  },
  {
   "cell_type": "code",
   "execution_count": 11,
   "metadata": {},
   "outputs": [
    {
     "name": "stdout",
     "output_type": "stream",
     "text": [
      "4\n",
      "6\n",
      "8\n"
     ]
    }
   ],
   "source": [
    "for k in range(4,10,2):\n",
    "    print(k)"
   ]
  },
  {
   "cell_type": "markdown",
   "metadata": {},
   "source": [
    "<a id=\"while\"></a>\n",
    "## Bucles while"
   ]
  },
  {
   "cell_type": "code",
   "execution_count": 12,
   "metadata": {},
   "outputs": [
    {
     "name": "stdout",
     "output_type": "stream",
     "text": [
      "3\n",
      "2\n",
      "1\n",
      "Acción!\n"
     ]
    }
   ],
   "source": [
    "n = 3\n",
    "while n>0:\n",
    "    print(n)\n",
    "    n = n-1\n",
    "print('Acción!')"
   ]
  },
  {
   "cell_type": "markdown",
   "metadata": {},
   "source": [
    "Puede usarse la sentencia `break` para salir del bucle cuando se desee.  \n",
    "Para saltar de una iteración a otra puede utilizarse la sentencia `continue`\n"
   ]
  },
  {
   "cell_type": "markdown",
   "metadata": {},
   "source": [
    "<a id=\"listas\"></a>\n",
    "## Listas"
   ]
  },
  {
   "cell_type": "markdown",
   "metadata": {},
   "source": [
    "Una lista es una secuencia de valores, que pueden ser de cualquier tipo"
   ]
  },
  {
   "cell_type": "code",
   "execution_count": 22,
   "metadata": {},
   "outputs": [],
   "source": [
    "l1 = [10,20,30,40]\n",
    "l2 = ['uno','dos','tres']\n",
    "l3 = ['Hola',2.3,5,[10,20]] # Lista dentro de una lista"
   ]
  },
  {
   "cell_type": "markdown",
   "metadata": {},
   "source": [
    "El operador corchete permite acceder a los elementos de una lista (los índices comienzan por 0)"
   ]
  },
  {
   "cell_type": "code",
   "execution_count": 23,
   "metadata": {},
   "outputs": [
    {
     "data": {
      "text/plain": [
       "10"
      ]
     },
     "execution_count": 23,
     "metadata": {},
     "output_type": "execute_result"
    }
   ],
   "source": [
    "l1[0]"
   ]
  },
  {
   "cell_type": "code",
   "execution_count": 24,
   "metadata": {},
   "outputs": [
    {
     "data": {
      "text/plain": [
       "[10, 20]"
      ]
     },
     "execution_count": 24,
     "metadata": {},
     "output_type": "execute_result"
    }
   ],
   "source": [
    "l3[3]"
   ]
  },
  {
   "cell_type": "code",
   "execution_count": 25,
   "metadata": {},
   "outputs": [
    {
     "data": {
      "text/plain": [
       "20"
      ]
     },
     "execution_count": 25,
     "metadata": {},
     "output_type": "execute_result"
    }
   ],
   "source": [
    "l3[3][1]"
   ]
  },
  {
   "cell_type": "code",
   "execution_count": 26,
   "metadata": {},
   "outputs": [
    {
     "data": {
      "text/plain": [
       "[10, 20]"
      ]
     },
     "execution_count": 26,
     "metadata": {},
     "output_type": "execute_result"
    }
   ],
   "source": [
    "l3[-1]"
   ]
  },
  {
   "cell_type": "code",
   "execution_count": 27,
   "metadata": {},
   "outputs": [
    {
     "data": {
      "text/plain": [
       "['Hola', 2.3]"
      ]
     },
     "execution_count": 27,
     "metadata": {},
     "output_type": "execute_result"
    }
   ],
   "source": [
    "l3[0:2]"
   ]
  },
  {
   "cell_type": "markdown",
   "metadata": {},
   "source": [
    "La función `len` nos da la longitud de una lista"
   ]
  },
  {
   "cell_type": "code",
   "execution_count": 28,
   "metadata": {},
   "outputs": [
    {
     "data": {
      "text/plain": [
       "4"
      ]
     },
     "execution_count": 28,
     "metadata": {},
     "output_type": "execute_result"
    }
   ],
   "source": [
    "len(l3)"
   ]
  },
  {
   "cell_type": "markdown",
   "metadata": {},
   "source": [
    "<a id=\"dicc\"></a>\n",
    "## Diccionarios"
   ]
  },
  {
   "cell_type": "markdown",
   "metadata": {},
   "source": [
    "Son similares a una lista, pero más genéricos, ya que los índices pueden ser de cualquier tipo. Los diccionarios son asignaciones entre **claves** y **valores**"
   ]
  },
  {
   "cell_type": "code",
   "execution_count": 29,
   "metadata": {},
   "outputs": [],
   "source": [
    "Equipo = {'Rafa':'Científico de datos',\n",
    "         'Pedro':'Arquitecto de datos',\n",
    "         'Javier':'Ingeniero de datos',\n",
    "         'Antonio':'Director'}"
   ]
  },
  {
   "cell_type": "markdown",
   "metadata": {},
   "source": [
    "Para acceder a un elemento de un diccionario lo hago a través de su clave"
   ]
  },
  {
   "cell_type": "code",
   "execution_count": 30,
   "metadata": {},
   "outputs": [
    {
     "data": {
      "text/plain": [
       "'Científico de datos'"
      ]
     },
     "execution_count": 30,
     "metadata": {},
     "output_type": "execute_result"
    }
   ],
   "source": [
    "Equipo['Rafa']"
   ]
  },
  {
   "cell_type": "code",
   "execution_count": 31,
   "metadata": {},
   "outputs": [],
   "source": [
    "Temperaturas = {'May':19.1,'Ene':1.4, 'Feb':2.6, 'Mar':7.1, 'Abr':9.1}"
   ]
  },
  {
   "cell_type": "code",
   "execution_count": 32,
   "metadata": {},
   "outputs": [
    {
     "data": {
      "text/plain": [
       "7.1"
      ]
     },
     "execution_count": 32,
     "metadata": {},
     "output_type": "execute_result"
    }
   ],
   "source": [
    "Temperaturas['Mar']"
   ]
  },
  {
   "cell_type": "markdown",
   "metadata": {},
   "source": [
    "Para iterar sobre un diccionario:"
   ]
  },
  {
   "cell_type": "code",
   "execution_count": 33,
   "metadata": {},
   "outputs": [
    {
     "name": "stdout",
     "output_type": "stream",
     "text": [
      "Rafa - Científico de datos\n",
      "Pedro - Arquitecto de datos\n",
      "Javier - Ingeniero de datos\n",
      "Antonio - Director\n"
     ]
    }
   ],
   "source": [
    "for key, value in Equipo.items():\n",
    "    print(key,'-',value)"
   ]
  },
  {
   "cell_type": "code",
   "execution_count": 34,
   "metadata": {},
   "outputs": [
    {
     "name": "stdout",
     "output_type": "stream",
     "text": [
      "May : 19.1\n",
      "Ene : 1.4\n",
      "Feb : 2.6\n",
      "Mar : 7.1\n",
      "Abr : 9.1\n"
     ]
    }
   ],
   "source": [
    "for k,v in Temperaturas.items():\n",
    "    print(k,':',v)"
   ]
  }
 ],
 "metadata": {
  "kernelspec": {
   "display_name": "Python 3",
   "language": "python",
   "name": "python3"
  },
  "language_info": {
   "codemirror_mode": {
    "name": "ipython",
    "version": 3
   },
   "file_extension": ".py",
   "mimetype": "text/x-python",
   "name": "python",
   "nbconvert_exporter": "python",
   "pygments_lexer": "ipython3",
   "version": "3.8.8"
  }
 },
 "nbformat": 4,
 "nbformat_minor": 2
}
