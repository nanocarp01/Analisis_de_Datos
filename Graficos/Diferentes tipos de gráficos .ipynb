{
 "cells": [
  {
   "cell_type": "code",
   "execution_count": 2,
   "id": "839c91dd",
   "metadata": {},
   "outputs": [],
   "source": [
    "import matplotlib.pyplot as plt\n",
    "%matplotlib inline"
   ]
  },
  {
   "cell_type": "code",
   "execution_count": 3,
   "id": "81caed62",
   "metadata": {},
   "outputs": [],
   "source": [
    "import pandas as pd "
   ]
  },
  {
   "cell_type": "code",
   "execution_count": 4,
   "id": "5f3d12a6",
   "metadata": {},
   "outputs": [],
   "source": [
    "excel = pd.read_csv(r'D:/pandas/finanzas.csv')"
   ]
  },
  {
   "cell_type": "code",
   "execution_count": 5,
   "id": "a0ea0360",
   "metadata": {},
   "outputs": [
    {
     "data": {
      "text/html": [
       "<div>\n",
       "<style scoped>\n",
       "    .dataframe tbody tr th:only-of-type {\n",
       "        vertical-align: middle;\n",
       "    }\n",
       "\n",
       "    .dataframe tbody tr th {\n",
       "        vertical-align: top;\n",
       "    }\n",
       "\n",
       "    .dataframe thead th {\n",
       "        text-align: right;\n",
       "    }\n",
       "</style>\n",
       "<table border=\"1\" class=\"dataframe\">\n",
       "  <thead>\n",
       "    <tr style=\"text-align: right;\">\n",
       "      <th></th>\n",
       "      <th>Fecha</th>\n",
       "      <th>Vendedor</th>\n",
       "      <th>Región</th>\n",
       "      <th>Artículo</th>\n",
       "      <th>Categoría</th>\n",
       "      <th>Unidades</th>\n",
       "      <th>Ganancia</th>\n",
       "    </tr>\n",
       "  </thead>\n",
       "  <tbody>\n",
       "    <tr>\n",
       "      <th>0</th>\n",
       "      <td>1/1/2016</td>\n",
       "      <td>Steve Ashton</td>\n",
       "      <td>Norte</td>\n",
       "      <td>Medias Femeninas</td>\n",
       "      <td>Vestimenta</td>\n",
       "      <td>6</td>\n",
       "      <td>18</td>\n",
       "    </tr>\n",
       "    <tr>\n",
       "      <th>1</th>\n",
       "      <td>1/1/2016</td>\n",
       "      <td>Trevor Snodgrass</td>\n",
       "      <td>Oeste</td>\n",
       "      <td>Chocolate</td>\n",
       "      <td>Comestibles</td>\n",
       "      <td>8</td>\n",
       "      <td>4</td>\n",
       "    </tr>\n",
       "    <tr>\n",
       "      <th>2</th>\n",
       "      <td>1/1/2016</td>\n",
       "      <td>Sarah Bond</td>\n",
       "      <td>Sur</td>\n",
       "      <td>Gorras</td>\n",
       "      <td>Vestimenta</td>\n",
       "      <td>3</td>\n",
       "      <td>6</td>\n",
       "    </tr>\n",
       "    <tr>\n",
       "      <th>3</th>\n",
       "      <td>1/1/2016</td>\n",
       "      <td>Desmond Delaney</td>\n",
       "      <td>Sur</td>\n",
       "      <td>Sánguche de Queso</td>\n",
       "      <td>Comestibles</td>\n",
       "      <td>9</td>\n",
       "      <td>14</td>\n",
       "    </tr>\n",
       "    <tr>\n",
       "      <th>4</th>\n",
       "      <td>1/1/2016</td>\n",
       "      <td>Desmond Delaney</td>\n",
       "      <td>Este</td>\n",
       "      <td>Chocolate</td>\n",
       "      <td>Comestibles</td>\n",
       "      <td>14</td>\n",
       "      <td>7</td>\n",
       "    </tr>\n",
       "    <tr>\n",
       "      <th>...</th>\n",
       "      <td>...</td>\n",
       "      <td>...</td>\n",
       "      <td>...</td>\n",
       "      <td>...</td>\n",
       "      <td>...</td>\n",
       "      <td>...</td>\n",
       "      <td>...</td>\n",
       "    </tr>\n",
       "    <tr>\n",
       "      <th>455</th>\n",
       "      <td>31/1/2016</td>\n",
       "      <td>Sarah Bond</td>\n",
       "      <td>Sur</td>\n",
       "      <td>Bufanda</td>\n",
       "      <td>Vestimenta</td>\n",
       "      <td>6</td>\n",
       "      <td>17</td>\n",
       "    </tr>\n",
       "    <tr>\n",
       "      <th>456</th>\n",
       "      <td>31/1/2016</td>\n",
       "      <td>Dustin Gee</td>\n",
       "      <td>Este</td>\n",
       "      <td>Sandalias</td>\n",
       "      <td>Vestimenta</td>\n",
       "      <td>11</td>\n",
       "      <td>116</td>\n",
       "    </tr>\n",
       "    <tr>\n",
       "      <th>457</th>\n",
       "      <td>31/1/2016</td>\n",
       "      <td>Dustin Gee</td>\n",
       "      <td>Este</td>\n",
       "      <td>Sánguche de Queso</td>\n",
       "      <td>Comestibles</td>\n",
       "      <td>4</td>\n",
       "      <td>6</td>\n",
       "    </tr>\n",
       "    <tr>\n",
       "      <th>458</th>\n",
       "      <td>31/1/2016</td>\n",
       "      <td>Dustin Gee</td>\n",
       "      <td>Norte</td>\n",
       "      <td>Escobillón</td>\n",
       "      <td>Hogar</td>\n",
       "      <td>8</td>\n",
       "      <td>7</td>\n",
       "    </tr>\n",
       "    <tr>\n",
       "      <th>459</th>\n",
       "      <td>31/1/2016</td>\n",
       "      <td>Trevor Snodgrass</td>\n",
       "      <td>Sur</td>\n",
       "      <td>Pepinillo</td>\n",
       "      <td>Comestibles</td>\n",
       "      <td>7</td>\n",
       "      <td>2</td>\n",
       "    </tr>\n",
       "  </tbody>\n",
       "</table>\n",
       "<p>460 rows × 7 columns</p>\n",
       "</div>"
      ],
      "text/plain": [
       "         Fecha          Vendedor Región           Artículo    Categoría  \\\n",
       "0     1/1/2016      Steve Ashton  Norte   Medias Femeninas   Vestimenta   \n",
       "1     1/1/2016  Trevor Snodgrass  Oeste          Chocolate  Comestibles   \n",
       "2     1/1/2016        Sarah Bond    Sur             Gorras   Vestimenta   \n",
       "3     1/1/2016   Desmond Delaney    Sur  Sánguche de Queso  Comestibles   \n",
       "4     1/1/2016   Desmond Delaney   Este          Chocolate  Comestibles   \n",
       "..         ...               ...    ...                ...          ...   \n",
       "455  31/1/2016        Sarah Bond    Sur            Bufanda   Vestimenta   \n",
       "456  31/1/2016        Dustin Gee   Este          Sandalias   Vestimenta   \n",
       "457  31/1/2016        Dustin Gee   Este  Sánguche de Queso  Comestibles   \n",
       "458  31/1/2016        Dustin Gee  Norte         Escobillón        Hogar   \n",
       "459  31/1/2016  Trevor Snodgrass    Sur          Pepinillo  Comestibles   \n",
       "\n",
       "     Unidades  Ganancia  \n",
       "0           6        18  \n",
       "1           8         4  \n",
       "2           3         6  \n",
       "3           9        14  \n",
       "4          14         7  \n",
       "..        ...       ...  \n",
       "455         6        17  \n",
       "456        11       116  \n",
       "457         4         6  \n",
       "458         8         7  \n",
       "459         7         2  \n",
       "\n",
       "[460 rows x 7 columns]"
      ]
     },
     "execution_count": 5,
     "metadata": {},
     "output_type": "execute_result"
    }
   ],
   "source": [
    "excel"
   ]
  },
  {
   "cell_type": "code",
   "execution_count": 9,
   "id": "9a7e1b05",
   "metadata": {},
   "outputs": [
    {
     "data": {
      "text/html": [
       "<div>\n",
       "<style scoped>\n",
       "    .dataframe tbody tr th:only-of-type {\n",
       "        vertical-align: middle;\n",
       "    }\n",
       "\n",
       "    .dataframe tbody tr th {\n",
       "        vertical-align: top;\n",
       "    }\n",
       "\n",
       "    .dataframe thead th {\n",
       "        text-align: right;\n",
       "    }\n",
       "</style>\n",
       "<table border=\"1\" class=\"dataframe\">\n",
       "  <thead>\n",
       "    <tr style=\"text-align: right;\">\n",
       "      <th></th>\n",
       "      <th>Fecha</th>\n",
       "      <th>Vendedor</th>\n",
       "      <th>Región</th>\n",
       "      <th>Artículo</th>\n",
       "      <th>Categoría</th>\n",
       "      <th>Unidades</th>\n",
       "      <th>Ganancia</th>\n",
       "    </tr>\n",
       "  </thead>\n",
       "  <tbody>\n",
       "    <tr>\n",
       "      <th>1</th>\n",
       "      <td>1/1/2016</td>\n",
       "      <td>Trevor Snodgrass</td>\n",
       "      <td>Oeste</td>\n",
       "      <td>Chocolate</td>\n",
       "      <td>Comestibles</td>\n",
       "      <td>8</td>\n",
       "      <td>4</td>\n",
       "    </tr>\n",
       "    <tr>\n",
       "      <th>3</th>\n",
       "      <td>1/1/2016</td>\n",
       "      <td>Desmond Delaney</td>\n",
       "      <td>Sur</td>\n",
       "      <td>Sánguche de Queso</td>\n",
       "      <td>Comestibles</td>\n",
       "      <td>9</td>\n",
       "      <td>14</td>\n",
       "    </tr>\n",
       "    <tr>\n",
       "      <th>4</th>\n",
       "      <td>1/1/2016</td>\n",
       "      <td>Desmond Delaney</td>\n",
       "      <td>Este</td>\n",
       "      <td>Chocolate</td>\n",
       "      <td>Comestibles</td>\n",
       "      <td>14</td>\n",
       "      <td>7</td>\n",
       "    </tr>\n",
       "    <tr>\n",
       "      <th>5</th>\n",
       "      <td>1/1/2016</td>\n",
       "      <td>Trevor Snodgrass</td>\n",
       "      <td>Este</td>\n",
       "      <td>Cerveza</td>\n",
       "      <td>Comestibles</td>\n",
       "      <td>15</td>\n",
       "      <td>6</td>\n",
       "    </tr>\n",
       "    <tr>\n",
       "      <th>6</th>\n",
       "      <td>1/1/2016</td>\n",
       "      <td>Boris Stanford</td>\n",
       "      <td>Norte</td>\n",
       "      <td>Pepinillo</td>\n",
       "      <td>Comestibles</td>\n",
       "      <td>14</td>\n",
       "      <td>4</td>\n",
       "    </tr>\n",
       "  </tbody>\n",
       "</table>\n",
       "</div>"
      ],
      "text/plain": [
       "      Fecha          Vendedor Región           Artículo    Categoría  \\\n",
       "1  1/1/2016  Trevor Snodgrass  Oeste          Chocolate  Comestibles   \n",
       "3  1/1/2016   Desmond Delaney    Sur  Sánguche de Queso  Comestibles   \n",
       "4  1/1/2016   Desmond Delaney   Este          Chocolate  Comestibles   \n",
       "5  1/1/2016  Trevor Snodgrass   Este            Cerveza  Comestibles   \n",
       "6  1/1/2016    Boris Stanford  Norte          Pepinillo  Comestibles   \n",
       "\n",
       "   Unidades  Ganancia  \n",
       "1         8         4  \n",
       "3         9        14  \n",
       "4        14         7  \n",
       "5        15         6  \n",
       "6        14         4  "
      ]
     },
     "execution_count": 9,
     "metadata": {},
     "output_type": "execute_result"
    }
   ],
   "source": [
    "vol = excel[excel.Categoría == 'Comestibles']\n",
    "vol.head() #mostramos los primeros 5 registros de la categoria filtrada"
   ]
  },
  {
   "cell_type": "code",
   "execution_count": 10,
   "id": "cc59645c",
   "metadata": {},
   "outputs": [
    {
     "data": {
      "text/plain": [
       "Pan                  26\n",
       "Chocolate            25\n",
       "Sánguche de Queso    25\n",
       "Pepinillo            24\n",
       "Soda                 19\n",
       "Cerveza              17\n",
       "Caramelos            17\n",
       "Name: Artículo, dtype: int64"
      ]
     },
     "execution_count": 10,
     "metadata": {},
     "output_type": "execute_result"
    }
   ],
   "source": [
    "vol.Artículo.value_counts()#mostramos la cantidad de productos de la categoria filtrada"
   ]
  },
  {
   "cell_type": "code",
   "execution_count": 11,
   "id": "97c58e9d",
   "metadata": {},
   "outputs": [
    {
     "data": {
      "image/png": "[encoded data removed]",
      "text/plain": [
       "<Figure size 432x288 with 1 Axes>"
      ]
     },
     "metadata": {
      "needs_background": "light"
     },
     "output_type": "display_data"
    }
   ],
   "source": [
    "vol.Artículo.value_counts().plot();#graficamos con graficos de lineas"
   ]
  },
  {
   "cell_type": "code",
   "execution_count": 12,
   "id": "78f19d92",
   "metadata": {},
   "outputs": [
    {
     "data": {
      "image/png": "[encoded data removed]",
      "text/plain": [
       "<Figure size 432x288 with 1 Axes>"
      ]
     },
     "metadata": {
      "needs_background": "light"
     },
     "output_type": "display_data"
    }
   ],
   "source": [
    "vol.Artículo.value_counts().plot(kind='bar');#filtramos por grafico de barras"
   ]
  },
  {
   "cell_type": "code",
   "execution_count": 13,
   "id": "bf28fa48",
   "metadata": {},
   "outputs": [
    {
     "data": {
      "image/png": "[encoded data removed]",
      "text/plain": [
       "<Figure size 432x288 with 1 Axes>"
      ]
     },
     "metadata": {
      "needs_background": "light"
     },
     "output_type": "display_data"
    }
   ],
   "source": [
    "vol.Artículo.value_counts().plot(kind='barh');#filtramos por grafico de barras"
   ]
  },
  {
   "cell_type": "code",
   "execution_count": 14,
   "id": "4b860c00",
   "metadata": {},
   "outputs": [
    {
     "data": {
      "image/png": "[encoded data removed]",
      "text/plain": [
       "<Figure size 432x288 with 1 Axes>"
      ]
     },
     "metadata": {},
     "output_type": "display_data"
    }
   ],
   "source": [
    "vol.Artículo.value_counts().plot(kind='pie');#filtramos por grafico de torta"
   ]
  },
  {
   "cell_type": "code",
   "execution_count": 18,
   "id": "0f18cc89",
   "metadata": {},
   "outputs": [
    {
     "data": {
      "image/png": "[encoded data removed]",
      "text/plain": [
       "<Figure size 432x288 with 1 Axes>"
      ]
     },
     "metadata": {
      "needs_background": "light"
     },
     "output_type": "display_data"
    }
   ],
   "source": [
    "excel.plot(kind='scatter', x='Unidades', y='Ganancia');#filtramos por grafico por puntos"
   ]
  },
  {
   "cell_type": "code",
   "execution_count": 19,
   "id": "7654dc13",
   "metadata": {},
   "outputs": [
    {
     "data": {
      "image/png": "[encoded data removed]",
      "text/plain": [
       "<Figure size 432x288 with 1 Axes>"
      ]
     },
     "metadata": {
      "needs_background": "light"
     },
     "output_type": "display_data"
    }
   ],
   "source": [
    "vol.Artículo.value_counts().plot(kind='bar', color='orange');"
   ]
  },
  {
   "cell_type": "code",
   "execution_count": 20,
   "id": "109d8e6a",
   "metadata": {},
   "outputs": [
    {
     "data": {
      "image/png": "[encoded data removed]",
      "text/plain": [
       "<Figure size 720x360 with 1 Axes>"
      ]
     },
     "metadata": {
      "needs_background": "light"
     },
     "output_type": "display_data"
    }
   ],
   "source": [
    "vol.Artículo.value_counts().plot(color='green', figsize=(10,5));"
   ]
  },
  {
   "cell_type": "code",
   "execution_count": null,
   "id": "b27cd603",
   "metadata": {},
   "outputs": [],
   "source": []
  }
 ],
 "metadata": {
  "kernelspec": {
   "display_name": "Python 3",
   "language": "python",
   "name": "python3"
  },
  "language_info": {
   "codemirror_mode": {
    "name": "ipython",
    "version": 3
   },
   "file_extension": ".py",
   "mimetype": "text/x-python",
   "name": "python",
   "nbconvert_exporter": "python",
   "pygments_lexer": "ipython3",
   "version": "3.8.8"
  }
 },
 "nbformat": 4,
 "nbformat_minor": 5
}
